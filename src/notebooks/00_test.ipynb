{
 "cells": [
  {
   "cell_type": "code",
   "execution_count": 1,
   "metadata": {},
   "outputs": [],
   "source": [
    "import sys\n",
    "\n",
    "sys.path.append(\"../\")"
   ]
  },
  {
   "cell_type": "code",
   "execution_count": 2,
   "metadata": {},
   "outputs": [
    {
     "name": "stderr",
     "output_type": "stream",
     "text": [
      "/var/folders/v7/y_kh76zd2s55cwm9bpl4cg500000gn/T/ipykernel_7083/2699376945.py:6: UserWarning: Qdrant client version 1.14.3 is incompatible with server version 1.3.1. Major versions should match and minor version difference must not exceed 1. Set check_compatibility=False to skip version check.\n",
      "  qdrant_client = QdrantClient(host=\"localhost\", port=6333)\n"
     ]
    }
   ],
   "source": [
    "from elasticsearch import Elasticsearch\n",
    "from qdrant_client import QdrantClient\n",
    "from cache.cache import Cache\n",
    "\n",
    "\n",
    "qdrant_client = QdrantClient(host=\"localhost\", port=6333)\n",
    "es_client = Elasticsearch(\n",
    "    hosts=[\"http://localhost:9200\"],\n",
    ")\n",
    "cache = Cache()"
   ]
  },
  {
   "cell_type": "code",
   "execution_count": 3,
   "metadata": {},
   "outputs": [
    {
     "name": "stdout",
     "output_type": "stream",
     "text": [
      "Vectorizer with model sdadas/mmlw-retrieval-roberta-large initialized\n"
     ]
    },
    {
     "name": "stderr",
     "output_type": "stream",
     "text": [
      "[nltk_data] Downloading package punkt to\n",
      "[nltk_data]     /Users/jakubkusiowski/nltk_data...\n",
      "[nltk_data]   Package punkt is already up-to-date!\n"
     ]
    }
   ],
   "source": [
    "from common.names import RERANKER_MODEL\n",
    "from evaluation.ragas_evaulator import RAGASEvaluator\n",
    "from vectorizer.hf_vectorizer import HFVectorizer\n",
    "\n",
    "vectorizer = HFVectorizer(\"sdadas/mmlw-retrieval-roberta-large\", cache)\n",
    "ragas = RAGASEvaluator(\n",
    "    RERANKER_MODEL, cache, \"../../models/PLLuM-12B-instruct-q4\", vectorizer\n",
    ")"
   ]
  },
  {
   "cell_type": "code",
   "execution_count": 4,
   "metadata": {},
   "outputs": [],
   "source": [
    "from common.names import (\n",
    "    OPENAI_EMBEDDING_MODEL_NAMES,\n",
    "    PASSAGE_PREFIX_MAP,\n",
    "    QUERY_PREFIX_MAP,\n",
    ")\n",
    "from repository.es_repository import ESRepository\n",
    "from repository.qdrant_openai_repository import QdrantOpenAIRepository\n",
    "from repository.qdrant_repository import QdrantRepository\n",
    "from qdrant_client.models import Distance\n",
    "\n",
    "from rerankers.hf_reranker import HFReranker\n",
    "from retrievers.es_retriever import ESRetriever\n",
    "from retrievers.hybrid_retriever import HybridRetriever\n",
    "from retrievers.qdrant_retriever import QdrantRetriever\n",
    "from retrievers.retriever import Retriever\n",
    "\n",
    "\n",
    "def get_best_poquad_retriever() -> tuple[Retriever, str]:\n",
    "    dataset_key = \"clarin-pl-poquad-100000\"\n",
    "    es_index = \"morfologik_index\"\n",
    "    qdrant_model = \"intfloat/multilingual-e5-large\"\n",
    "    reranker_model = \"sdadas/polish-reranker-large-ranknet\"\n",
    "    alpha = 0.5\n",
    "\n",
    "    es_repository = ESRepository(es_client, es_index, cache)\n",
    "    passage_prefix = PASSAGE_PREFIX_MAP[qdrant_model]\n",
    "    query_prefix = QUERY_PREFIX_MAP[qdrant_model]\n",
    "    qdrant_repository = QdrantRepository.get_repository(\n",
    "        qdrant_client,\n",
    "        qdrant_model,\n",
    "        Distance.COSINE,\n",
    "        cache,\n",
    "        passage_prefix,\n",
    "        query_prefix,\n",
    "    )\n",
    "    reranker = HFReranker(reranker_model, cache)\n",
    "\n",
    "    retriever = HybridRetriever(\n",
    "        es_repository, qdrant_repository, dataset_key, alpha, reranker\n",
    "    )\n",
    "\n",
    "    return (\n",
    "        retriever,\n",
    "        \"morfologik_index-intfloat/multilingual-e5-large-Cosine-clarin-pl-poquad-100000-0.5-sdadas/polish-reranker-large-ranknet\",\n",
    "    )"
   ]
  },
  {
   "cell_type": "code",
   "execution_count": 5,
   "metadata": {},
   "outputs": [],
   "source": [
    "from common.names import DATASET_SEED\n",
    "from dataset.polqa_dataset_getter import PolqaDatasetGetter\n",
    "from dataset.poquad_dataset_getter import PoquadDatasetGetter\n",
    "\n",
    "\n",
    "poquad_dataset_getter = PoquadDatasetGetter()\n",
    "polqa_dataset_getter = PolqaDatasetGetter()\n",
    "\n",
    "poquad_dataset = poquad_dataset_getter.get_random_n_test(500, DATASET_SEED)[:100]\n",
    "polqa_dataset = polqa_dataset_getter.get_random_n_test(500, DATASET_SEED)[:100]"
   ]
  },
  {
   "cell_type": "code",
   "execution_count": 6,
   "metadata": {},
   "outputs": [],
   "source": [
    "def get_best_poquad_retriever() -> tuple[Retriever, str]:\n",
    "    dataset_key = \"clarin-pl-poquad-100000\"\n",
    "    es_index = \"morfologik_index\"\n",
    "    qdrant_model = \"intfloat/multilingual-e5-large\"\n",
    "    reranker_model = \"sdadas/polish-reranker-large-ranknet\"\n",
    "    alpha = 0.5\n",
    "\n",
    "    es_repository = ESRepository(es_client, es_index, cache)\n",
    "    passage_prefix = PASSAGE_PREFIX_MAP[qdrant_model]\n",
    "    query_prefix = QUERY_PREFIX_MAP[qdrant_model]\n",
    "    qdrant_repository = QdrantRepository.get_repository(\n",
    "        qdrant_client,\n",
    "        qdrant_model,\n",
    "        Distance.COSINE,\n",
    "        cache,\n",
    "        passage_prefix,\n",
    "        query_prefix,\n",
    "    )\n",
    "    reranker = HFReranker(reranker_model, cache)\n",
    "\n",
    "    retriever = HybridRetriever(\n",
    "        es_repository, qdrant_repository, dataset_key, alpha, reranker\n",
    "    )\n",
    "\n",
    "    return (\n",
    "        retriever,\n",
    "        \"morfologik_index-intfloat/multilingual-e5-large-Cosine-clarin-pl-poquad-100000-0.5-sdadas/polish-reranker-large-ranknet\",\n",
    "    )"
   ]
  },
  {
   "cell_type": "code",
   "execution_count": 7,
   "metadata": {},
   "outputs": [
    {
     "name": "stdout",
     "output_type": "stream",
     "text": [
      "Vectorizer with model intfloat/multilingual-e5-large initialized\n",
      "Qdrant collection intfloat-multilingual-e5-large-Cosine repository initialized\n",
      "Vectorizer with model sdadas/polish-reranker-large-ranknet initialized\n"
     ]
    }
   ],
   "source": [
    "retriever = get_best_poquad_retriever()[0]"
   ]
  },
  {
   "cell_type": "code",
   "execution_count": 8,
   "metadata": {},
   "outputs": [],
   "source": [
    "from common.names import INST_MODEL_PATHS\n",
    "from generators.instruction_generator import InstructionGenerator\n",
    "\n",
    "\n",
    "generator = InstructionGenerator(INST_MODEL_PATHS[2], cache)\n"
   ]
  },
  {
   "cell_type": "code",
   "execution_count": 9,
   "metadata": {},
   "outputs": [
    {
     "name": "stdout",
     "output_type": "stream",
     "text": [
      "0.4601368308067322\n",
      "0.4438478893703885\n",
      "0.4763565182685852\n",
      "0.4587802052497864\n",
      "0.45490841600630016\n",
      "0.8104492955737643\n",
      "0.837481395403544\n",
      "0.8668285886446635\n",
      "0.46236984332402553\n",
      "0.46544650660620795\n",
      "0.4430265784263611\n",
      "0.7744162744945949\n",
      "0.8389997508790757\n",
      "0.8638077603446113\n",
      "0.4741881489753723\n",
      "0.47250867419772674\n",
      "0.44280656311247085\n",
      "0.8847644554244147\n",
      "0.7704950345887078\n",
      "0.4457202778922187\n",
      "0.882605336772071\n",
      "0.45013348923789126\n",
      "0.4548708928955925\n",
      "0.868443931473626\n",
      "0.44043015374077693\n",
      "0.8271593477990892\n",
      "0.47055681149164835\n",
      "0.8161473764313593\n",
      "0.8949701309204102\n",
      "0.8842248267597622\n",
      "0.4330896510018243\n",
      "0.8582213971349928\n",
      "0.4263785243034363\n",
      "0.789284230603112\n",
      "0.4637789501084222\n",
      "0.45333315134048463\n",
      "0.8223413427670797\n",
      "0.5042341179317898\n",
      "0.8248651888635422\n",
      "0.4539534409840902\n",
      "0.826536614365048\n",
      "0.8719880024592083\n",
      "0.8820703201823764\n",
      "0.8492149617936876\n",
      "0.44347844653659396\n",
      "0.8340788496865166\n",
      "0.8598861204253302\n",
      "0.8565022548039755\n",
      "0.421261465549469\n",
      "0.9045980241563584\n",
      "0.44942700465520224\n",
      "0.894346695476108\n",
      "0.4486195948388841\n",
      "0.8432641638649834\n",
      "0.4592933429612054\n",
      "0.8589974429872301\n",
      "0.537275328901079\n",
      "0.4405624892976549\n",
      "0.4816483696301779\n",
      "0.8340401199128893\n",
      "0.8363492608070374\n",
      "0.8967686971028646\n",
      "0.47686973677741157\n",
      "0.46054870287577315\n",
      "0.845602297782898\n",
      "0.4813957479265001\n",
      "0.43654467397265967\n",
      "0.817083243529002\n",
      "0.8855126407411363\n",
      "0.8518497215376959\n",
      "0.45299458503723145\n",
      "0.4569769091076321\n",
      "0.43625052637524075\n",
      "0.8463324745496115\n",
      "0.7968846864170498\n",
      "0.45798896948496504\n",
      "0.8763996733559503\n",
      "0.4418030381202698\n",
      "0.878606625398\n",
      "0.45303512016932174\n",
      "0.8689674536387125\n",
      "0.5156537691752116\n",
      "0.8596338682704502\n",
      "0.8429625206523471\n",
      "0.8619802183575102\n",
      "0.8819068882200453\n",
      "0.50905186202791\n",
      "0.46285466485553317\n",
      "0.8657028555870055\n",
      "0.4914309408929613\n",
      "0.8451435618930393\n",
      "0.4499503056208292\n",
      "0.43282003137800434\n",
      "0.5278971645567152\n",
      "0.4450344536039565\n",
      "0.8892259134186639\n",
      "0.8126148740450541\n",
      "0.4519912216398451\n",
      "0.44223082065582275\n",
      "0.8245750294791327\n"
     ]
    }
   ],
   "source": [
    "hal_scores = []\n",
    "n = 5\n",
    "\n",
    "\n",
    "for entry in poquad_dataset:    \n",
    "    result = retriever.get_relevant_passages(entry.question)\n",
    "    result.passages = result.passages[:n]\n",
    "    answer = generator.generate_answer(entry.question, [passage for (passage, _) in result.passages])\n",
    "\n",
    "    print(ragas.hallucination(result, answer))"
   ]
  },
  {
   "cell_type": "code",
   "execution_count": 10,
   "metadata": {},
   "outputs": [],
   "source": [
    "from common.dataset_entry import DatasetEntry\n",
    "\n",
    "unique_questions = set()\n",
    "repetetive_polqa_qestion_entries: list[DatasetEntry] = []\n",
    "\n",
    "for entry in polqa_dataset:\n",
    "    if entry.question in unique_questions:\n",
    "        repetetive_polqa_qestion_entries.append(entry)\n",
    "    else:\n",
    "        unique_questions.add(entry.question)"
   ]
  },
  {
   "cell_type": "code",
   "execution_count": 11,
   "metadata": {},
   "outputs": [
    {
     "name": "stdout",
     "output_type": "stream",
     "text": [
      "100\n",
      "0\n"
     ]
    }
   ],
   "source": [
    "print(len(unique_questions))\n",
    "print(len(repetetive_polqa_qestion_entries))"
   ]
  },
  {
   "cell_type": "code",
   "execution_count": 12,
   "metadata": {},
   "outputs": [
    {
     "name": "stderr",
     "output_type": "stream",
     "text": [
      "/var/folders/v7/y_kh76zd2s55cwm9bpl4cg500000gn/T/ipykernel_7083/2699376945.py:6: UserWarning: Qdrant client version 1.14.3 is incompatible with server version 1.3.1. Major versions should match and minor version difference must not exceed 1. Set check_compatibility=False to skip version check.\n",
      "  qdrant_client = QdrantClient(host=\"localhost\", port=6333)\n"
     ]
    }
   ],
   "source": [
    "from elasticsearch import Elasticsearch\n",
    "from qdrant_client import QdrantClient\n",
    "from cache.cache import Cache\n",
    "\n",
    "\n",
    "qdrant_client = QdrantClient(host=\"localhost\", port=6333)\n",
    "es_client = Elasticsearch(\n",
    "    hosts=[\"http://localhost:9200\"],\n",
    ")\n",
    "cache = Cache()"
   ]
  },
  {
   "cell_type": "code",
   "execution_count": 13,
   "metadata": {},
   "outputs": [],
   "source": [
    "from elasticsearch import ConflictError, NotFoundError\n",
    "from common.names import DISTANCES, INDEX_NAMES, MODEL_NAMES, OPENAI_EMBEDDING_MODEL_NAMES\n",
    "from common.utils import replace_slash_with_dash\n",
    "from qdrant_client import models\n",
    "\n",
    "for model in INDEX_NAMES:\n",
    "    i = 0\n",
    "    es_client.delete_by_query(\n",
    "        index=model,\n",
    "        body={\"query\": {\"match_all\": {}}},\n",
    "        conflicts=\"proceed\"  # Ignore version conflicts\n",
    "    )\n",
    "   "
   ]
  },
  {
   "cell_type": "code",
   "execution_count": 14,
   "metadata": {},
   "outputs": [
    {
     "name": "stdout",
     "output_type": "stream",
     "text": [
      "Vectorizer with model intfloat/multilingual-e5-large initialized\n",
      "Qdrant collection intfloat-multilingual-e5-large-Cosine repository initialized\n"
     ]
    }
   ],
   "source": [
    "from common.names import QUERY_PREFIX_MAP\n",
    "from repository.qdrant_repository import QdrantRepository\n",
    "from qdrant_client.models import Distance\n",
    "\n",
    "from retrievers.qdrant_retriever import QdrantRetriever\n",
    "\n",
    "\n",
    "qdrant_repository = QdrantRepository.get_repository(\n",
    "    qdrant_client,\n",
    "    \"intfloat/multilingual-e5-large\",\n",
    "    Distance.COSINE,\n",
    "    cache,\n",
    "    \"\",\n",
    "    QUERY_PREFIX_MAP[\"intfloat/multilingual-e5-large\"],\n",
    ")\n",
    "\n",
    "qdrant_retriever = QdrantRetriever(qdrant_repository, \"ipipan-polqa-100000\")"
   ]
  },
  {
   "cell_type": "code",
   "execution_count": null,
   "metadata": {},
   "outputs": [],
   "source": [
    "from typing import Dict\n",
    "from repository.repository import Repository\n",
    "from evaluation.retriever_evaluator import RetrieverEvaluator\n",
    "retriever_evaluator = RetrieverEvaluator()\n",
    "\n",
    "def run_polqa_evaluation(\n",
    "    dataset: list[DatasetEntry],\n",
    "    repository: Repository,\n",
    "    retriever: Retriever,\n",
    "    dataset_key: str,\n",
    "):\n",
    "    scores: Dict[str, float] = {}\n",
    "\n",
    "    ndcgs = []\n",
    "    mrrs = []\n",
    "    recalls = []\n",
    "    accuracies = []\n",
    "\n",
    "    for entry in dataset:\n",
    "        passage_id = entry.passage_id\n",
    "        query = entry.question\n",
    "\n",
    "        result = retriever.get_relevant_passages(query)\n",
    "        relevant_passages_count = repository.count_relevant_documents(\n",
    "            passage_id, dataset_key\n",
    "        )\n",
    "\n",
    "        if relevant_passages_count == 0:\n",
    "            print(f\"ERROR NO RELEVANT PASSAGES - passage id {passage_id}\")\n",
    "            break\n",
    "\n",
    "        ndcg = retriever_evaluator.calculate_ndcg(result, passage_id)\n",
    "        mrr = retriever_evaluator.calculate_mrr(result, passage_id)\n",
    "        recall = retriever_evaluator.calculate_recall(\n",
    "            result, passage_id, relevant_passages_count\n",
    "        )\n",
    "        accuracy = retriever_evaluator.calculate_accuracy(result, passage_id)\n",
    "        if recall < 0:\n",
    "            break\n",
    "        if recall > 1:\n",
    "            print(dataset_key, passage_id, recall, relevant_passages_count)\n",
    "            for passage, _ in result.passages:\n",
    "                print(passage)\n",
    "            break\n",
    "\n",
    "        ndcgs.append(ndcg)\n",
    "        mrrs.append(mrr)\n",
    "        recalls.append(recall)\n",
    "        accuracies.append(accuracy)\n",
    "\n",
    "    scores[\"ndcg\"] = sum(ndcgs) / len(ndcgs)\n",
    "    scores[\"mrr\"] = sum(mrrs) / len(mrrs)\n",
    "    scores[\"recall\"] = sum(recalls) / len(recalls)\n",
    "    scores[\"accuracy\"] = sum(accuracies) / len(accuracies)\n",
    "\n",
    "    return scores"
   ]
  },
  {
   "cell_type": "code",
   "execution_count": 19,
   "metadata": {},
   "outputs": [
    {
     "ename": "NameError",
     "evalue": "name 'retriever_evaluator' is not defined",
     "output_type": "error",
     "traceback": [
      "\u001b[0;31m---------------------------------------------------------------------------\u001b[0m",
      "\u001b[0;31mNameError\u001b[0m                                 Traceback (most recent call last)",
      "Cell \u001b[0;32mIn[19], line 1\u001b[0m\n\u001b[0;32m----> 1\u001b[0m \u001b[43mrun_poquad_evaluation\u001b[49m\u001b[43m(\u001b[49m\n\u001b[1;32m      2\u001b[0m \u001b[43m    \u001b[49m\u001b[43mpolqa_dataset\u001b[49m\u001b[43m,\u001b[49m\u001b[43m \u001b[49m\u001b[43mqdrant_repository\u001b[49m\u001b[43m,\u001b[49m\u001b[43m \u001b[49m\u001b[43mqdrant_retriever\u001b[49m\u001b[43m,\u001b[49m\u001b[43m \u001b[49m\u001b[38;5;124;43m\"\u001b[39;49m\u001b[38;5;124;43mipipan-polqa-100000\u001b[39;49m\u001b[38;5;124;43m\"\u001b[39;49m\n\u001b[1;32m      3\u001b[0m \u001b[43m)\u001b[49m\n",
      "Cell \u001b[0;32mIn[18], line 33\u001b[0m, in \u001b[0;36mrun_poquad_evaluation\u001b[0;34m(dataset, repository, retriever, dataset_key)\u001b[0m\n\u001b[1;32m     30\u001b[0m     \u001b[38;5;28mprint\u001b[39m(\u001b[38;5;124mf\u001b[39m\u001b[38;5;124m\"\u001b[39m\u001b[38;5;124mERROR NO RELEVANT PASSAGES - passage id \u001b[39m\u001b[38;5;132;01m{\u001b[39;00mpassage_id\u001b[38;5;132;01m}\u001b[39;00m\u001b[38;5;124m\"\u001b[39m)\n\u001b[1;32m     31\u001b[0m     \u001b[38;5;28;01mbreak\u001b[39;00m\n\u001b[0;32m---> 33\u001b[0m ndcg \u001b[38;5;241m=\u001b[39m \u001b[43mretriever_evaluator\u001b[49m\u001b[38;5;241m.\u001b[39mcalculate_ndcg(result, passage_id)\n\u001b[1;32m     34\u001b[0m mrr \u001b[38;5;241m=\u001b[39m retriever_evaluator\u001b[38;5;241m.\u001b[39mcalculate_mrr(result, passage_id)\n\u001b[1;32m     35\u001b[0m recall \u001b[38;5;241m=\u001b[39m retriever_evaluator\u001b[38;5;241m.\u001b[39mcalculate_recall(\n\u001b[1;32m     36\u001b[0m     result, passage_id, relevant_passages_count\n\u001b[1;32m     37\u001b[0m )\n",
      "\u001b[0;31mNameError\u001b[0m: name 'retriever_evaluator' is not defined"
     ]
    }
   ],
   "source": [
    "run_poquad_evaluation(\n",
    "    polqa_dataset, qdrant_repository, qdrant_retriever, \"ipipan-polqa-100000\"\n",
    ")"
   ]
  }
 ],
 "metadata": {
  "kernelspec": {
   "display_name": "env",
   "language": "python",
   "name": "python3"
  },
  "language_info": {
   "codemirror_mode": {
    "name": "ipython",
    "version": 3
   },
   "file_extension": ".py",
   "mimetype": "text/x-python",
   "name": "python",
   "nbconvert_exporter": "python",
   "pygments_lexer": "ipython3",
   "version": "3.12.2"
  }
 },
 "nbformat": 4,
 "nbformat_minor": 2
}
