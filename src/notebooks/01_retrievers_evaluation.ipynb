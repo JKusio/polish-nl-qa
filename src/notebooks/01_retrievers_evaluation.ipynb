{
 "cells": [
  {
   "cell_type": "code",
   "execution_count": 1,
   "metadata": {},
   "outputs": [],
   "source": [
    "import sys\n",
    "\n",
    "sys.path.append(\"../\")"
   ]
  },
  {
   "cell_type": "markdown",
   "metadata": {},
   "source": [
    "In this file we'll compare all retrievers.\n",
    "We'll check how each of them compares to each other,\n",
    "We'll get the best 10 retrievers that will later be used for our RAG.\n",
    "\n",
    "To test all retrievers:\n",
    "1. Get all dense, sparse and hybrid retrievers\n",
    "2. Prompt and get top 10 results for each retriever\n",
    "3. Calculate metrics\n",
    "\n",
    "REMEMBER TO CACHE WHAT YOU CAN!"
   ]
  },
  {
   "cell_type": "code",
   "execution_count": 2,
   "metadata": {},
   "outputs": [],
   "source": [
    "from elasticsearch import Elasticsearch\n",
    "from qdrant_client import QdrantClient\n",
    "from qdrant_client.models import Distance, VectorParams\n",
    "from cache.cache import Cache\n",
    "\n",
    "qdrant_client = QdrantClient(host=\"localhost\", port=6333)\n",
    "es_client = Elasticsearch(\n",
    "    hosts=[\"http://localhost:9200\"],\n",
    ")\n",
    "cache = Cache()"
   ]
  },
  {
   "cell_type": "code",
   "execution_count": 3,
   "metadata": {},
   "outputs": [],
   "source": [
    "from typing import Dict\n",
    "from common.names import INDEX_NAMES\n",
    "from repository.es_repository import ESRepository\n",
    "\n",
    "es_repositories: Dict[str, ESRepository] = {}\n",
    "\n",
    "for index_name in INDEX_NAMES:\n",
    "    es_repositories[index_name] = ESRepository(es_client, index_name, cache)"
   ]
  },
  {
   "cell_type": "markdown",
   "metadata": {},
   "source": [
    "For ES repositories:\n",
    "1. Run tests for each of 7 indexes\n",
    "2. Run tests for each of 2 datasets\n",
    "3. Run tests for each character splitting type"
   ]
  },
  {
   "cell_type": "code",
   "execution_count": 4,
   "metadata": {},
   "outputs": [],
   "source": [
    "from dataset.polqa_dataset_getter import PolqaDatasetGetter\n",
    "from dataset.poquad_dataset_getter import PoquadDatasetGetter\n",
    "\n",
    "poquad_dataset_getter = PoquadDatasetGetter()\n",
    "polqa_dataset_getter = PolqaDatasetGetter()\n",
    "\n",
    "poquad_dataset = poquad_dataset_getter.get_test_dataset()\n",
    "polqa_dataset = polqa_dataset_getter.get_test_dataset()"
   ]
  },
  {
   "cell_type": "code",
   "execution_count": 5,
   "metadata": {},
   "outputs": [
    {
     "name": "stdout",
     "output_type": "stream",
     "text": [
      "basic_index-clarin-pl-poquad-character-500: 0.4809383856518945\n",
      "basic_index-clarin-pl-poquad-character-500: 0.47190580835619\n",
      "basic_index-clarin-pl-poquad-character-1000: 0.49526676878964876\n",
      "basic_index-clarin-pl-poquad-character-1000: 0.4775363366489321\n",
      "basic_index-clarin-pl-poquad-character-2000: 0.504805028250532\n",
      "basic_index-clarin-pl-poquad-character-2000: 0.48425200753445025\n",
      "polish_index-clarin-pl-poquad-character-500: 0.5467760715519275\n",
      "polish_index-clarin-pl-poquad-character-500: 0.5422323700472556\n",
      "polish_index-clarin-pl-poquad-character-1000: 0.5636051692010742\n",
      "polish_index-clarin-pl-poquad-character-1000: 0.5507422232135972\n",
      "polish_index-clarin-pl-poquad-character-2000: 0.5686764296297864\n",
      "polish_index-clarin-pl-poquad-character-2000: 0.5517567303349745\n",
      "polish_whitespace_index-clarin-pl-poquad-character-500: 0.5438914759110157\n",
      "polish_whitespace_index-clarin-pl-poquad-character-500: 0.5391043752684974\n",
      "polish_whitespace_index-clarin-pl-poquad-character-1000: 0.560268131223659\n",
      "polish_whitespace_index-clarin-pl-poquad-character-1000: 0.5455168506218124\n",
      "polish_whitespace_index-clarin-pl-poquad-character-2000: 0.5668980092914678\n",
      "polish_whitespace_index-clarin-pl-poquad-character-2000: 0.5489776444929116\n",
      "polish_stopwords_index-clarin-pl-poquad-character-500: 0.49038808256646776\n",
      "polish_stopwords_index-clarin-pl-poquad-character-500: 0.48051851668263884\n",
      "polish_stopwords_index-clarin-pl-poquad-character-1000: 0.5054330553818095\n",
      "polish_stopwords_index-clarin-pl-poquad-character-1000: 0.4888391824460526\n",
      "polish_stopwords_index-clarin-pl-poquad-character-2000: 0.5153707742214961\n",
      "polish_stopwords_index-clarin-pl-poquad-character-2000: 0.49643800326052234\n",
      "morfologik_index-clarin-pl-poquad-character-500: 0.5606037652599305\n",
      "morfologik_index-clarin-pl-poquad-character-500: 0.5600307877025434\n",
      "morfologik_index-clarin-pl-poquad-character-1000: 0.5771200757711141\n",
      "morfologik_index-clarin-pl-poquad-character-1000: 0.5642617560556492\n",
      "morfologik_index-clarin-pl-poquad-character-2000: 0.5840566265632278\n",
      "morfologik_index-clarin-pl-poquad-character-2000: 0.56692456186731\n",
      "morfologik_whitespace_index-clarin-pl-poquad-character-500: 0.5492769921298384\n",
      "morfologik_whitespace_index-clarin-pl-poquad-character-500: 0.5457090672262428\n",
      "morfologik_whitespace_index-clarin-pl-poquad-character-1000: 0.5641138880762098\n",
      "morfologik_whitespace_index-clarin-pl-poquad-character-1000: 0.5504498364231188\n",
      "morfologik_whitespace_index-clarin-pl-poquad-character-2000: 0.5719831658576555\n",
      "morfologik_whitespace_index-clarin-pl-poquad-character-2000: 0.5539747254441911\n",
      "morfologik_stopwords_index-clarin-pl-poquad-character-500: 0.5571407461918173\n",
      "morfologik_stopwords_index-clarin-pl-poquad-character-500: 0.5548432801295397\n",
      "morfologik_stopwords_index-clarin-pl-poquad-character-1000: 0.5738824782341551\n",
      "morfologik_stopwords_index-clarin-pl-poquad-character-1000: 0.5611258440456914\n",
      "morfologik_stopwords_index-clarin-pl-poquad-character-2000: 0.580022331318499\n",
      "morfologik_stopwords_index-clarin-pl-poquad-character-2000: 0.563213376953835\n"
     ]
    }
   ],
   "source": [
    "from common.names import CHARACTER_SPLITTING_FUNCTION, DATASET_NAMES, MODEL_NAMES, SEMANTIC_TYPES\n",
    "from common.utils import get_semantic_dataset_key, get_split_dataset_key, replace_slash_with_dash\n",
    "from evaluation.retriever_evaluator import RetrieverEvaluator\n",
    "\n",
    "evaluator = RetrieverEvaluator()\n",
    "\n",
    "# Save score by indexname-datasetkey\n",
    "scores: Dict[str, float] = {}\n",
    "\n",
    "for es_repository in es_repositories.values():\n",
    "    # poquad - character splitting\n",
    "    for split in CHARACTER_SPLITTING_FUNCTION:\n",
    "        dataset_key = get_split_dataset_key(DATASET_NAMES[1], split)\n",
    "        ndcgs = []\n",
    "        mrrs = []\n",
    "\n",
    "        for entry in poquad_dataset:\n",
    "            title = entry[\"title\"]\n",
    "            query = entry[\"question\"]\n",
    "            result = es_repository.find(query, dataset_key)\n",
    "\n",
    "            ndcg = evaluator.calculate_ndcg(result, title)\n",
    "            mrr = evaluator.calculate_mrr(result, title)\n",
    "            ndcgs.append(ndcg)\n",
    "            mrrs.append(mrr)\n",
    "\n",
    "        ndcg_score = sum(ndcgs) / len(ndcgs)\n",
    "        print(f\"{es_repository.index_name}-{dataset_key}: {ndcg_score}\")\n",
    "        \n",
    "        mrr_score = sum(mrrs) / len(mrrs)\n",
    "        print(f\"{es_repository.index_name}-{dataset_key}: {mrr_score}\")"
   ]
  }
 ],
 "metadata": {
  "kernelspec": {
   "display_name": "env",
   "language": "python",
   "name": "python3"
  },
  "language_info": {
   "codemirror_mode": {
    "name": "ipython",
    "version": 3
   },
   "file_extension": ".py",
   "mimetype": "text/x-python",
   "name": "python",
   "nbconvert_exporter": "python",
   "pygments_lexer": "ipython3",
   "version": "3.12.2"
  }
 },
 "nbformat": 4,
 "nbformat_minor": 2
}
