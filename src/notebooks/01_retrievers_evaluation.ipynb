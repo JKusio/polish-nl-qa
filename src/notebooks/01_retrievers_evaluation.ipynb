{
 "cells": [
  {
   "cell_type": "code",
   "execution_count": 11,
   "metadata": {},
   "outputs": [],
   "source": [
    "import sys\n",
    "\n",
    "sys.path.append(\"../\")"
   ]
  },
  {
   "cell_type": "markdown",
   "metadata": {},
   "source": [
    "In this file we'll compare all retrievers.\n",
    "We'll check how each of them compares to each other,\n",
    "We'll get the best 10 retrievers that will later be used for our RAG.\n",
    "\n",
    "To test all retrievers:\n",
    "1. Get all dense, sparse and hybrid retrievers\n",
    "2. Prompt and get top 10 results for each retriever\n",
    "3. Calculate metrics\n",
    "\n",
    "REMEMBER TO CACHE WHAT YOU CAN!"
   ]
  },
  {
   "cell_type": "code",
   "execution_count": 22,
   "metadata": {},
   "outputs": [],
   "source": [
    "from elasticsearch import Elasticsearch\n",
    "from qdrant_client import QdrantClient\n",
    "from qdrant_client.models import Distance, VectorParams\n",
    "from cache.cache import Cache\n",
    "\n",
    "qdrant_client = QdrantClient(host=\"localhost\", port=6333)\n",
    "es_client = Elasticsearch(\n",
    "    hosts=[\"http://localhost:9200\"],\n",
    ")\n",
    "cache = Cache()"
   ]
  },
  {
   "cell_type": "code",
   "execution_count": 17,
   "metadata": {},
   "outputs": [],
   "source": [
    "from typing import Dict\n",
    "from common.names import INDEX_NAMES\n",
    "from repository.es_repository import ESRepository\n",
    "\n",
    "es_repositories: Dict[str, ESRepository] = {}\n",
    "\n",
    "for index_name in INDEX_NAMES:\n",
    "    es_repositories[index_name] = ESRepository(es_client, index_name, cache)"
   ]
  },
  {
   "cell_type": "code",
   "execution_count": 27,
   "metadata": {},
   "outputs": [
    {
     "name": "stdout",
     "output_type": "stream",
     "text": [
      "Vectorizer with model sdadas/mmlw-retrieval-roberta-large initialized\n",
      "Qdrant collection ipipan-polqa-sdadas-mmlw-retrieval-roberta-large-character-500-Cosine repository initialized\n"
     ]
    },
    {
     "ename": "UnboundLocalError",
     "evalue": "cannot access local variable 'vector' where it is not associated with a value",
     "output_type": "error",
     "traceback": [
      "\u001b[0;31m---------------------------------------------------------------------------\u001b[0m",
      "\u001b[0;31mUnboundLocalError\u001b[0m                         Traceback (most recent call last)",
      "Cell \u001b[0;32mIn[27], line 19\u001b[0m\n\u001b[1;32m      9\u001b[0m vectorizer \u001b[38;5;241m=\u001b[39m HFVectorizer(model_name, \u001b[38;5;28;01mNone\u001b[39;00m)\n\u001b[1;32m     10\u001b[0m qdrant_repository \u001b[38;5;241m=\u001b[39m QdrantRepository(\n\u001b[1;32m     11\u001b[0m     qdrant_client,\n\u001b[1;32m     12\u001b[0m     collection_name,\n\u001b[0;32m   (...)\u001b[0m\n\u001b[1;32m     16\u001b[0m     cache,\n\u001b[1;32m     17\u001b[0m )\n\u001b[0;32m---> 19\u001b[0m result \u001b[38;5;241m=\u001b[39m \u001b[43mqdrant_repository\u001b[49m\u001b[38;5;241;43m.\u001b[39;49m\u001b[43mfind\u001b[49m\u001b[43m(\u001b[49m\u001b[38;5;124;43m\"\u001b[39;49m\u001b[38;5;124;43mPlatforma Obywatelska\u001b[39;49m\u001b[38;5;124;43m\"\u001b[39;49m\u001b[43m)\u001b[49m\n\u001b[1;32m     21\u001b[0m \u001b[38;5;28mprint\u001b[39m(result)\n",
      "File \u001b[0;32m~/Desktop/Workspace/polish-nl-qa/src/notebooks/../repository/qdrant_repository.py:107\u001b[0m, in \u001b[0;36mQdrantRepository.find\u001b[0;34m(self, query)\u001b[0m\n\u001b[1;32m    103\u001b[0m     passages \u001b[38;5;241m=\u001b[39m [Passage\u001b[38;5;241m.\u001b[39mfrom_dict(d) \u001b[38;5;28;01mfor\u001b[39;00m d \u001b[38;5;129;01min\u001b[39;00m dicts]\n\u001b[1;32m    104\u001b[0m     \u001b[38;5;28;01mreturn\u001b[39;00m passages\n\u001b[1;32m    106\u001b[0m data \u001b[38;5;241m=\u001b[39m \u001b[38;5;28mself\u001b[39m\u001b[38;5;241m.\u001b[39mqdrant\u001b[38;5;241m.\u001b[39msearch(\n\u001b[0;32m--> 107\u001b[0m     collection_name\u001b[38;5;241m=\u001b[39m\u001b[38;5;28mself\u001b[39m\u001b[38;5;241m.\u001b[39mcollection_name, query_vector\u001b[38;5;241m=\u001b[39m\u001b[43mvector\u001b[49m\n\u001b[1;32m    108\u001b[0m )\n\u001b[1;32m    110\u001b[0m vector \u001b[38;5;241m=\u001b[39m \u001b[38;5;28mself\u001b[39m\u001b[38;5;241m.\u001b[39mvectorizer\u001b[38;5;241m.\u001b[39mget_vector(query)\n\u001b[1;32m    112\u001b[0m passages \u001b[38;5;241m=\u001b[39m \u001b[38;5;28mlist\u001b[39m(\n\u001b[1;32m    113\u001b[0m     \u001b[38;5;28mmap\u001b[39m(\n\u001b[1;32m    114\u001b[0m         \u001b[38;5;28;01mlambda\u001b[39;00m point: Passage(\n\u001b[0;32m   (...)\u001b[0m\n\u001b[1;32m    121\u001b[0m     )\n\u001b[1;32m    122\u001b[0m )\n",
      "\u001b[0;31mUnboundLocalError\u001b[0m: cannot access local variable 'vector' where it is not associated with a value"
     ]
    }
   ],
   "source": [
    "from common.models_dimensions import MODEL_DIMENSIONS_MAP\n",
    "from common.names import DISTANCES, MODEL_NAMES\n",
    "from common.utils import get_all_qdrant_collection_names\n",
    "from repository.qdrant_repository import QdrantRepository\n",
    "from vectorizer.hf_vectorizer import HFVectorizer\n",
    "\n",
    "model_name = \"sdadas/mmlw-retrieval-roberta-large\"\n",
    "collection_name = \"ipipan-polqa-sdadas-mmlw-retrieval-roberta-large-character-500-Cosine\"\n",
    "vectorizer = HFVectorizer(model_name, None)\n",
    "qdrant_repository = QdrantRepository(\n",
    "    qdrant_client,\n",
    "    collection_name,\n",
    "    \"sdadas/mmlw-retrieval-roberta-large\",\n",
    "    VectorParams(size=1024, distance=DISTANCES[0]),\n",
    "    vectorizer,\n",
    "    cache,\n",
    ")\n",
    "\n",
    "result = qdrant_repository.find(\"Platforma Obywatelska\")\n",
    "\n",
    "print(result)"
   ]
  }
 ],
 "metadata": {
  "kernelspec": {
   "display_name": "env",
   "language": "python",
   "name": "python3"
  },
  "language_info": {
   "codemirror_mode": {
    "name": "ipython",
    "version": 3
   },
   "file_extension": ".py",
   "mimetype": "text/x-python",
   "name": "python",
   "nbconvert_exporter": "python",
   "pygments_lexer": "ipython3",
   "version": "3.12.2"
  }
 },
 "nbformat": 4,
 "nbformat_minor": 2
}
