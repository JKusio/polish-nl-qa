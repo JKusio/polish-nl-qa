{
 "cells": [
  {
   "cell_type": "code",
   "execution_count": 1,
   "metadata": {},
   "outputs": [],
   "source": [
    "import sys\n",
    "\n",
    "sys.path.append(\"../\")"
   ]
  },
  {
   "cell_type": "code",
   "execution_count": 2,
   "metadata": {},
   "outputs": [],
   "source": [
    "from common.utils import (\n",
    "    get_all_es_index_combinations,\n",
    "    get_all_openai_model_combinations,\n",
    "    get_all_qdrant_model_combinations,\n",
    ")\n",
    "\n",
    "\n",
    "es_index_combinations = get_all_es_index_combinations()\n",
    "qdrant_model_combinations = get_all_qdrant_model_combinations()\n",
    "openai_model_combinations = get_all_openai_model_combinations()"
   ]
  },
  {
   "cell_type": "code",
   "execution_count": 3,
   "metadata": {},
   "outputs": [],
   "source": [
    "from elasticsearch import Elasticsearch\n",
    "from qdrant_client import QdrantClient\n",
    "from cache.cache import Cache\n",
    "\n",
    "\n",
    "qdrant_client = QdrantClient(host=\"localhost\", port=6333)\n",
    "es_client = Elasticsearch(\n",
    "    hosts=[\"http://localhost:9200\"],\n",
    ")\n",
    "cache = Cache()"
   ]
  },
  {
   "cell_type": "code",
   "execution_count": 4,
   "metadata": {},
   "outputs": [],
   "source": [
    "from dataset.polqa_dataset_getter import PolqaDatasetGetter\n",
    "from dataset.poquad_dataset_getter import PoquadDatasetGetter\n",
    "from evaluation.polqa_retriever_evaluator import PolqaRetrieverEvaluator\n",
    "from evaluation.poquad_retriever_evaluator import PoquadRetrieverEvaluator\n",
    "\n",
    "poquad_dataset_getter = PoquadDatasetGetter()\n",
    "polqa_dataset_getter = PolqaDatasetGetter()\n",
    "\n",
    "poquad_dataset = poquad_dataset_getter.get_test_dataset()\n",
    "polqa_dataset = polqa_dataset_getter.get_test_dataset()\n",
    "\n",
    "poquad_evaluator = PoquadRetrieverEvaluator()\n",
    "polqa_evaluator = PolqaRetrieverEvaluator()"
   ]
  },
  {
   "cell_type": "code",
   "execution_count": 5,
   "metadata": {},
   "outputs": [],
   "source": [
    "from typing import Dict\n",
    "\n",
    "def run_poquad_evaluation(dataset, repository, retriever, dataset_key):\n",
    "    scores: Dict[str, float] = {}\n",
    "\n",
    "    ndcgs = []\n",
    "    mrrs = []\n",
    "    recalls = []\n",
    "    accuracies = []\n",
    "\n",
    "    for entry in dataset:\n",
    "        passage_id = entry.passage_id\n",
    "        query = entry.question\n",
    "        result = retriever.get_relevant_passages(query)\n",
    "        relevant_passages_count = repository.count_relevant_documents(\n",
    "            [passage_id], dataset_key\n",
    "        )\n",
    "\n",
    "        if relevant_passages_count == 0:\n",
    "            continue\n",
    "\n",
    "        ndcg = poquad_evaluator.calculate_ndcg(result, passage_id)\n",
    "        mrr = poquad_evaluator.calculate_mrr(result, passage_id)\n",
    "        recall = poquad_evaluator.calculate_recall(\n",
    "            result, passage_id, relevant_passages_count\n",
    "        )\n",
    "        accuracy = poquad_evaluator.calculate_accuracy(result, passage_id)\n",
    "        if recall < 0:\n",
    "            break\n",
    "        if (recall > 1):\n",
    "            print(dataset_key, passage_id, recall, relevant_passages_count)\n",
    "            for passage, _ in result.passages:\n",
    "                print(passage)\n",
    "            break\n",
    "\n",
    "        ndcgs.append(ndcg)\n",
    "        mrrs.append(mrr)\n",
    "        recalls.append(recall)\n",
    "        accuracies.append(accuracy)\n",
    "\n",
    "    scores[\"ndcg\"] = sum(ndcgs) / len(ndcgs)\n",
    "    scores[\"mrr\"] = sum(mrrs) / len(mrrs)\n",
    "    scores[\"recall\"] = sum(recalls) / len(recalls)\n",
    "    scores[\"accuracy\"] = sum(accuracies) / len(accuracies)\n",
    "\n",
    "    return scores"
   ]
  },
  {
   "cell_type": "code",
   "execution_count": 6,
   "metadata": {},
   "outputs": [],
   "source": [
    "import random\n",
    "from typing import Dict\n",
    "\n",
    "\n",
    "def run_polqa_evaluation(dataset, repository, retriever, dataset_key):\n",
    "    scores: Dict[str, float] = {}\n",
    "\n",
    "    ndcgs = []\n",
    "    mrrs = []\n",
    "    recalls = []\n",
    "    accuracies = []\n",
    "\n",
    "    unique_question_entries = []\n",
    "    for entry in dataset:\n",
    "        if entry.question not in [entry_.question for entry_ in unique_question_entries]:\n",
    "            unique_question_entries.append(entry)\n",
    "\n",
    "    for entry in unique_question_entries:\n",
    "        same_question_entries = []\n",
    "\n",
    "        for entry_ in dataset:\n",
    "            if entry_.question == entry.question:\n",
    "                same_question_entries.append(entry_)\n",
    "\n",
    "        passage_ids = [entry.metadata[\"passage_id\"] for entry in same_question_entries]\n",
    "        query = entry.question\n",
    "        result = retriever.get_relevant_passages(query)\n",
    "        relevant_passages_count = repository.count_relevant_documents(\n",
    "            passage_ids, dataset_key\n",
    "        )\n",
    "\n",
    "        if relevant_passages_count == 0:\n",
    "            continue\n",
    "\n",
    "        ndcg = polqa_evaluator.calculate_ndcg(result, passage_ids)\n",
    "        mrr = polqa_evaluator.calculate_mrr(result, passage_ids)\n",
    "        recall = polqa_evaluator.calculate_recall(\n",
    "            result, passage_ids, relevant_passages_count\n",
    "        )\n",
    "        accuracy = polqa_evaluator.calculate_accuracy(result, passage_ids)\n",
    "        if recall < 0:\n",
    "            break\n",
    "        if recall > 1:\n",
    "            print(dataset_key, passage_ids, recall, relevant_passages_count)\n",
    "            for passage, _ in result.passages:\n",
    "                print(passage)\n",
    "            break\n",
    "\n",
    "        ndcgs.append(ndcg)\n",
    "        mrrs.append(mrr)\n",
    "        recalls.append(recall)\n",
    "        accuracies.append(accuracy)\n",
    "\n",
    "    scores[\"ndcg\"] = sum(ndcgs) / len(ndcgs)\n",
    "    scores[\"mrr\"] = sum(mrrs) / len(mrrs)\n",
    "    scores[\"recall\"] = sum(recalls) / len(recalls)\n",
    "    scores[\"accuracy\"] = sum(accuracies) / len(accuracies)\n",
    "\n",
    "    return scores"
   ]
  },
  {
   "cell_type": "code",
   "execution_count": 7,
   "metadata": {},
   "outputs": [],
   "source": [
    "from repository.es_repository import ESRepository\n",
    "from repository.qdrant_repository import QdrantRepository\n",
    "from rerankers.hf_reranker import HFReranker\n",
    "from retrievers.es_retriever import ESRetriever\n",
    "\n",
    "def run_es_evaluations(combinations, datasets, reranker: HFReranker = None):\n",
    "    es_scores: Dict[str, float] = {}\n",
    "    poquad_dataset, polqa_dataset  = datasets\n",
    "\n",
    "    for index, dataset_key in combinations:\n",
    "        repository = ESRepository(es_client, index, cache)\n",
    "        retriever = ESRetriever(repository, dataset_key, reranker)\n",
    "\n",
    "        selected_dataset = poquad_dataset if \"poquad\" in dataset_key else polqa_dataset\n",
    "        evaluator_func = run_poquad_evaluation if \"poquad\" in dataset_key else run_polqa_evaluation\n",
    "\n",
    "        scores = evaluator_func(selected_dataset, repository, retriever, dataset_key)\n",
    "        es_scores[f\"{index}-{dataset_key}\"] = scores\n",
    "\n",
    "        print(f\"{index}-{dataset_key}\")\n",
    "        print(scores)\n",
    "        print(\"\\n\\n\")\n",
    "\n",
    "    return es_scores"
   ]
  },
  {
   "cell_type": "code",
   "execution_count": 8,
   "metadata": {},
   "outputs": [],
   "source": [
    "import json\n",
    "from common.names import PASSAGE_PREFIX_MAP, QUERY_PREFIX_MAP\n",
    "from repository.qdrant_repository import QdrantRepository\n",
    "from retrievers.qdrant_retriever import QdrantRetriever\n",
    "\n",
    "\n",
    "def run_qdrant_evaluations(combinations, datasets, reranker: HFReranker = None):\n",
    "    qdrant_scores: Dict[str, float] = {}\n",
    "\n",
    "    poquad_dataset, polqa_dataset  = datasets\n",
    "\n",
    "    for model, distance, dataset_key in combinations:\n",
    "        passage_prefix = PASSAGE_PREFIX_MAP[model]\n",
    "        query_prefix = QUERY_PREFIX_MAP[model]\n",
    "\n",
    "        repository = QdrantRepository.get_repository(\n",
    "            qdrant_client, model, distance, cache, passage_prefix, query_prefix\n",
    "        )\n",
    "        retriever = QdrantRetriever(repository, dataset_key, reranker)\n",
    "\n",
    "        selected_dataset = poquad_dataset if \"poquad\" in dataset_key else polqa_dataset\n",
    "        evaluator_func = (\n",
    "            run_poquad_evaluation if \"poquad\" in dataset_key else run_polqa_evaluation\n",
    "        )\n",
    "\n",
    "        scores = evaluator_func(selected_dataset, repository, retriever, dataset_key)\n",
    "        qdrant_scores[f\"{model}-{distance}-{dataset_key}\"] = scores\n",
    "\n",
    "        cache.set(f\"qdrant_scores:{model}-{distance}-{dataset_key}\", json.dumps(scores))\n",
    "\n",
    "        print(f\"{model}-{distance}-{dataset_key}\")\n",
    "        print(scores)\n",
    "        print(\"\\n\\n\")\n",
    "\n",
    "    return qdrant_scores"
   ]
  },
  {
   "cell_type": "code",
   "execution_count": 9,
   "metadata": {},
   "outputs": [],
   "source": [
    "import json\n",
    "\n",
    "es_scores = None\n",
    "cached_es_scores = cache.get(\"score:es\")  \n",
    "\n",
    "if (cached_es_scores is not None):\n",
    "    es_scores = json.loads(cached_es_scores)\n",
    "else:\n",
    "    es_scores = run_es_evaluations(es_index_combinations, (poquad_dataset, polqa_dataset))\n",
    "    cache.set(\"score:es\", json.dumps(es_scores))"
   ]
  },
  {
   "cell_type": "code",
   "execution_count": 10,
   "metadata": {},
   "outputs": [],
   "source": [
    "qdrant_scores = None\n",
    "cached_qdrant_scores = cache.get(\"score:qdrant\")\n",
    "\n",
    "if cached_qdrant_scores is not None:\n",
    "    qdrant_scores = json.loads(cached_qdrant_scores)\n",
    "else:\n",
    "    qdrant_scores = run_qdrant_evaluations(qdrant_model_combinations, (poquad_dataset, polqa_dataset))\n",
    "    cache.set(\"score:qdrant\", json.dumps(qdrant_scores))"
   ]
  },
  {
   "cell_type": "code",
   "execution_count": 11,
   "metadata": {},
   "outputs": [
    {
     "name": "stdout",
     "output_type": "stream",
     "text": [
      "ES Scores\n",
      "{'basic_index-ipipan-polqa-500': {'ndcg': 0.9033158644767426, 'mrr': 0.9116864212934082, 'recall': 0.7845671310736813, 'accuracy': 0.8820960698689956}, 'basic_index-ipipan-polqa-1000': {'ndcg': 0.9031070620942475, 'mrr': 0.9116864212934082, 'recall': 0.7938795314341166, 'accuracy': 0.8820960698689956}, 'basic_index-ipipan-polqa-2000': {'ndcg': 0.9031070620942475, 'mrr': 0.9116864212934082, 'recall': 0.7938795314341166, 'accuracy': 0.8820960698689956}, 'basic_index-ipipan-polqa-100000': {'ndcg': 0.9031070620942475, 'mrr': 0.9116864212934082, 'recall': 0.7938795314341166, 'accuracy': 0.8820960698689956}, 'basic_index-clarin-pl-poquad-500': {'ndcg': 0.6758059968759683, 'mrr': 0.6565473218743314, 'recall': 0.50520201840097, 'accuracy': 0.5888666999500749}, 'basic_index-clarin-pl-poquad-1000': {'ndcg': 0.6962586758152063, 'mrr': 0.6673856279073452, 'recall': 0.73139457480446, 'accuracy': 0.5998502246630055}, 'basic_index-clarin-pl-poquad-2000': {'ndcg': 0.7089806720640973, 'mrr': 0.676140253904857, 'recall': 0.8062073556332168, 'accuracy': 0.6078382426360459}, 'basic_index-clarin-pl-poquad-100000': {'ndcg': 0.7101131409306715, 'mrr': 0.6765948299772563, 'recall': 0.8152770843734398, 'accuracy': 0.6075886170743884}, 'polish_index-ipipan-polqa-500': {'ndcg': 0.9339756900053993, 'mrr': 0.9382148055728842, 'recall': 0.897506411589381, 'accuracy': 0.9126637554585153}, 'polish_index-ipipan-polqa-1000': {'ndcg': 0.9347732362119321, 'mrr': 0.9382148055728842, 'recall': 0.9072606917585083, 'accuracy': 0.9126637554585153}, 'polish_index-ipipan-polqa-2000': {'ndcg': 0.9347732362119321, 'mrr': 0.9382148055728842, 'recall': 0.9072606917585083, 'accuracy': 0.9126637554585153}, 'polish_index-ipipan-polqa-100000': {'ndcg': 0.9347732362119321, 'mrr': 0.9382148055728842, 'recall': 0.9072606917585083, 'accuracy': 0.9126637554585153}, 'polish_index-clarin-pl-poquad-500': {'ndcg': 0.7721872812173639, 'mrr': 0.761705259570961, 'recall': 0.6035072391412881, 'accuracy': 0.7004493260109835}, 'polish_index-clarin-pl-poquad-1000': {'ndcg': 0.7953685604873427, 'mrr': 0.7737310700615743, 'recall': 0.815896987851556, 'accuracy': 0.7149276085871193}, 'polish_index-clarin-pl-poquad-2000': {'ndcg': 0.8059058146518668, 'mrr': 0.7783002084175324, 'recall': 0.8881261441171576, 'accuracy': 0.7179231153270095}, 'polish_index-clarin-pl-poquad-100000': {'ndcg': 0.805272324438952, 'mrr': 0.7767704593902797, 'recall': 0.8939091362955567, 'accuracy': 0.7156764852720918}, 'polish_whitespace_index-ipipan-polqa-500': {'ndcg': 0.9335819629377886, 'mrr': 0.9381541554030637, 'recall': 0.8836989672142511, 'accuracy': 0.9126637554585153}, 'polish_whitespace_index-ipipan-polqa-1000': {'ndcg': 0.9329538252893667, 'mrr': 0.9381541554030637, 'recall': 0.8953455326817772, 'accuracy': 0.9126637554585153}, 'polish_whitespace_index-ipipan-polqa-2000': {'ndcg': 0.9329538252893667, 'mrr': 0.9381541554030637, 'recall': 0.8953455326817772, 'accuracy': 0.9126637554585153}, 'polish_whitespace_index-ipipan-polqa-100000': {'ndcg': 0.9329538252893667, 'mrr': 0.9381541554030637, 'recall': 0.8953455326817772, 'accuracy': 0.9126637554585153}, 'polish_whitespace_index-clarin-pl-poquad-500': {'ndcg': 0.7703318881017444, 'mrr': 0.7608825848528794, 'recall': 0.5955129805292062, 'accuracy': 0.6984523215177234}, 'polish_whitespace_index-clarin-pl-poquad-1000': {'ndcg': 0.7930138306959597, 'mrr': 0.7703577570152708, 'recall': 0.815930271259777, 'accuracy': 0.7074388417373939}, 'polish_whitespace_index-clarin-pl-poquad-2000': {'ndcg': 0.8024893906996515, 'mrr': 0.7747580018860598, 'recall': 0.8851306373772675, 'accuracy': 0.7124313529705442}, 'polish_whitespace_index-clarin-pl-poquad-100000': {'ndcg': 0.8026829143644938, 'mrr': 0.7740058562949227, 'recall': 0.891662506240639, 'accuracy': 0.7116824762855717}, 'polish_stopwords_index-ipipan-polqa-500': {'ndcg': 0.9092125860110112, 'mrr': 0.9143862202814168, 'recall': 0.7950041588687877, 'accuracy': 0.8864628820960698}, 'polish_stopwords_index-ipipan-polqa-1000': {'ndcg': 0.9089996992484873, 'mrr': 0.9143862202814168, 'recall': 0.8041224786857974, 'accuracy': 0.8864628820960698}, 'polish_stopwords_index-ipipan-polqa-2000': {'ndcg': 0.9089996992484873, 'mrr': 0.9143862202814168, 'recall': 0.8041224786857974, 'accuracy': 0.8864628820960698}, 'polish_stopwords_index-ipipan-polqa-100000': {'ndcg': 0.9089996992484873, 'mrr': 0.9143862202814168, 'recall': 0.8041224786857974, 'accuracy': 0.8864628820960698}, 'polish_stopwords_index-clarin-pl-poquad-500': {'ndcg': 0.6887321937783134, 'mrr': 0.671522181014193, 'recall': 0.5172503150036849, 'accuracy': 0.6080878681977034}, 'polish_stopwords_index-clarin-pl-poquad-1000': {'ndcg': 0.7088435106404426, 'mrr': 0.6806211317943719, 'recall': 0.7379722083541355, 'accuracy': 0.6125811283075387}, 'polish_stopwords_index-clarin-pl-poquad-2000': {'ndcg': 0.7219303694110208, 'mrr': 0.6913291768696163, 'recall': 0.8120735563321684, 'accuracy': 0.6245631552670994}, 'polish_stopwords_index-clarin-pl-poquad-100000': {'ndcg': 0.7226391679977655, 'mrr': 0.6910472584773634, 'recall': 0.8210184722915627, 'accuracy': 0.6233150274588117}, 'morfologik_index-ipipan-polqa-500': {'ndcg': 0.9429696416963094, 'mrr': 0.9456019962570181, 'recall': 0.9039855825882026, 'accuracy': 0.925764192139738}, 'morfologik_index-ipipan-polqa-1000': {'ndcg': 0.9437177182820586, 'mrr': 0.9460386774797255, 'recall': 0.9188639356761628, 'accuracy': 0.925764192139738}, 'morfologik_index-ipipan-polqa-2000': {'ndcg': 0.9437177182820586, 'mrr': 0.9460386774797255, 'recall': 0.9188639356761628, 'accuracy': 0.925764192139738}, 'morfologik_index-ipipan-polqa-100000': {'ndcg': 0.9437177182820586, 'mrr': 0.9460386774797255, 'recall': 0.9188639356761628, 'accuracy': 0.925764192139738}, 'morfologik_index-clarin-pl-poquad-500': {'ndcg': 0.7947791086952106, 'mrr': 0.7917959370468107, 'recall': 0.6199447852031477, 'accuracy': 0.7336495257114328}, 'morfologik_index-clarin-pl-poquad-1000': {'ndcg': 0.8216158245361471, 'mrr': 0.8020876423460048, 'recall': 0.836345481777334, 'accuracy': 0.745381927109336}, 'morfologik_index-clarin-pl-poquad-2000': {'ndcg': 0.8287033065185196, 'mrr': 0.8022174080149617, 'recall': 0.90830421035114, 'accuracy': 0.7423864203694458}, 'morfologik_index-clarin-pl-poquad-100000': {'ndcg': 0.8303559266345311, 'mrr': 0.8031682634777992, 'recall': 0.9148776834747878, 'accuracy': 0.7438841737393909}, 'morfologik_whitespace_index-ipipan-polqa-500': {'ndcg': 0.9454148895429239, 'mrr': 0.9531295487627366, 'recall': 0.8953143411658696, 'accuracy': 0.9344978165938864}, 'morfologik_whitespace_index-ipipan-polqa-1000': {'ndcg': 0.9448619912571642, 'mrr': 0.9531295487627366, 'recall': 0.9059593124003604, 'accuracy': 0.9344978165938864}, 'morfologik_whitespace_index-ipipan-polqa-2000': {'ndcg': 0.9448619912571642, 'mrr': 0.9531295487627366, 'recall': 0.9059593124003604, 'accuracy': 0.9344978165938864}, 'morfologik_whitespace_index-ipipan-polqa-100000': {'ndcg': 0.9448619912571642, 'mrr': 0.9531295487627366, 'recall': 0.9059593124003604, 'accuracy': 0.9344978165938864}, 'morfologik_whitespace_index-clarin-pl-poquad-500': {'ndcg': 0.7786997542571598, 'mrr': 0.7725885378281784, 'recall': 0.5990526115588523, 'accuracy': 0.7129306040938592}, 'morfologik_whitespace_index-clarin-pl-poquad-1000': {'ndcg': 0.8049874739342167, 'mrr': 0.7840526908050622, 'recall': 0.8218172740888666, 'accuracy': 0.7261607588617074}, 'morfologik_whitespace_index-clarin-pl-poquad-2000': {'ndcg': 0.8130066369521357, 'mrr': 0.7857947206174866, 'recall': 0.8946580129805292, 'accuracy': 0.7254118821767349}, 'morfologik_whitespace_index-clarin-pl-poquad-100000': {'ndcg': 0.8142069271949927, 'mrr': 0.7862321596969626, 'recall': 0.9013979031452821, 'accuracy': 0.72591113330005}, 'morfologik_stopwords_index-ipipan-polqa-500': {'ndcg': 0.9459804231551544, 'mrr': 0.9507763221737021, 'recall': 0.9074738337838774, 'accuracy': 0.9301310043668122}, 'morfologik_stopwords_index-ipipan-polqa-1000': {'ndcg': 0.9466827999061974, 'mrr': 0.9507763221737021, 'recall': 0.9157118597074928, 'accuracy': 0.9301310043668122}, 'morfologik_stopwords_index-ipipan-polqa-2000': {'ndcg': 0.9466827999061974, 'mrr': 0.9507763221737021, 'recall': 0.9157118597074928, 'accuracy': 0.9301310043668122}, 'morfologik_stopwords_index-ipipan-polqa-100000': {'ndcg': 0.9466827999061974, 'mrr': 0.9507763221737021, 'recall': 0.9157118597074928, 'accuracy': 0.9301310043668122}, 'morfologik_stopwords_index-clarin-pl-poquad-500': {'ndcg': 0.7889135401772499, 'mrr': 0.783565722844305, 'recall': 0.6134393647623803, 'accuracy': 0.7264103844233649}, 'morfologik_stopwords_index-clarin-pl-poquad-1000': {'ndcg': 0.8125726536077492, 'mrr': 0.7919291697374573, 'recall': 0.8301589282742553, 'accuracy': 0.7338991512730904}, 'morfologik_stopwords_index-clarin-pl-poquad-2000': {'ndcg': 0.8215043701720994, 'mrr': 0.7950367108068056, 'recall': 0.9012730903644534, 'accuracy': 0.7341487768347479}, 'morfologik_stopwords_index-clarin-pl-poquad-100000': {'ndcg': 0.8228343709973647, 'mrr': 0.7955489384970164, 'recall': 0.9073889166250624, 'accuracy': 0.7346480279580629}}\n"
     ]
    }
   ],
   "source": [
    "print(\"ES Scores\")\n",
    "print(es_scores)"
   ]
  },
  {
   "cell_type": "code",
   "execution_count": 12,
   "metadata": {},
   "outputs": [],
   "source": [
    "# sort es scores by sym of all scores\n",
    "es_scores_sorted = sorted(es_scores.items(), key=lambda x: sum(x[1].values()), reverse=True)"
   ]
  },
  {
   "cell_type": "code",
   "execution_count": 13,
   "metadata": {},
   "outputs": [
    {
     "name": "stdout",
     "output_type": "stream",
     "text": [
      "['morfologik_stopwords_index-ipipan-polqa-1000', 'morfologik_stopwords_index-ipipan-polqa-2000', 'morfologik_stopwords_index-ipipan-polqa-100000', 'morfologik_whitespace_index-ipipan-polqa-1000', 'morfologik_whitespace_index-ipipan-polqa-2000', 'morfologik_whitespace_index-ipipan-polqa-100000', 'morfologik_index-ipipan-polqa-1000', 'morfologik_index-ipipan-polqa-2000', 'morfologik_index-ipipan-polqa-100000', 'morfologik_stopwords_index-ipipan-polqa-500', 'morfologik_whitespace_index-ipipan-polqa-500', 'morfologik_index-ipipan-polqa-500', 'polish_index-ipipan-polqa-1000', 'polish_index-ipipan-polqa-2000', 'polish_index-ipipan-polqa-100000', 'polish_index-ipipan-polqa-500', 'polish_whitespace_index-ipipan-polqa-1000', 'polish_whitespace_index-ipipan-polqa-2000', 'polish_whitespace_index-ipipan-polqa-100000', 'polish_whitespace_index-ipipan-polqa-500', 'polish_stopwords_index-ipipan-polqa-1000', 'polish_stopwords_index-ipipan-polqa-2000', 'polish_stopwords_index-ipipan-polqa-100000', 'polish_stopwords_index-ipipan-polqa-500', 'basic_index-ipipan-polqa-1000', 'basic_index-ipipan-polqa-2000', 'basic_index-ipipan-polqa-100000', 'basic_index-ipipan-polqa-500', 'morfologik_index-clarin-pl-poquad-100000', 'morfologik_index-clarin-pl-poquad-2000', 'morfologik_stopwords_index-clarin-pl-poquad-100000', 'morfologik_stopwords_index-clarin-pl-poquad-2000', 'morfologik_whitespace_index-clarin-pl-poquad-100000', 'morfologik_whitespace_index-clarin-pl-poquad-2000', 'morfologik_index-clarin-pl-poquad-1000', 'polish_index-clarin-pl-poquad-100000', 'polish_index-clarin-pl-poquad-2000', 'polish_whitespace_index-clarin-pl-poquad-100000', 'polish_whitespace_index-clarin-pl-poquad-2000', 'morfologik_stopwords_index-clarin-pl-poquad-1000', 'morfologik_whitespace_index-clarin-pl-poquad-1000', 'polish_index-clarin-pl-poquad-1000', 'polish_whitespace_index-clarin-pl-poquad-1000', 'morfologik_index-clarin-pl-poquad-500', 'morfologik_stopwords_index-clarin-pl-poquad-500', 'morfologik_whitespace_index-clarin-pl-poquad-500', 'polish_stopwords_index-clarin-pl-poquad-100000', 'polish_stopwords_index-clarin-pl-poquad-2000', 'polish_index-clarin-pl-poquad-500', 'polish_whitespace_index-clarin-pl-poquad-500', 'basic_index-clarin-pl-poquad-100000', 'basic_index-clarin-pl-poquad-2000', 'polish_stopwords_index-clarin-pl-poquad-1000', 'basic_index-clarin-pl-poquad-1000', 'polish_stopwords_index-clarin-pl-poquad-500', 'basic_index-clarin-pl-poquad-500']\n"
     ]
    }
   ],
   "source": [
    "print([x[0] for x in es_scores_sorted])"
   ]
  },
  {
   "cell_type": "code",
   "execution_count": 14,
   "metadata": {},
   "outputs": [],
   "source": [
    "# sort qdrant scores by sum of all scores\n",
    "qdrant_scores_sorted = sorted(qdrant_scores.items(), key=lambda x: sum(x[1].values()), reverse=True)"
   ]
  },
  {
   "cell_type": "code",
   "execution_count": 15,
   "metadata": {},
   "outputs": [
    {
     "name": "stdout",
     "output_type": "stream",
     "text": [
      "['sdadas/mmlw-retrieval-roberta-large-Cosine-ipipan-polqa-1000', 'sdadas/mmlw-retrieval-roberta-large-Cosine-ipipan-polqa-2000', 'sdadas/mmlw-retrieval-roberta-large-Cosine-ipipan-polqa-100000', 'sdadas/mmlw-retrieval-roberta-large-Euclid-ipipan-polqa-1000', 'sdadas/mmlw-retrieval-roberta-large-Euclid-ipipan-polqa-2000', 'sdadas/mmlw-retrieval-roberta-large-Euclid-ipipan-polqa-100000', 'BAAI/bge-m3-Cosine-ipipan-polqa-1000', 'BAAI/bge-m3-Euclid-ipipan-polqa-1000', 'BAAI/bge-m3-Cosine-ipipan-polqa-2000', 'BAAI/bge-m3-Euclid-ipipan-polqa-2000', 'BAAI/bge-m3-Cosine-ipipan-polqa-100000', 'BAAI/bge-m3-Euclid-ipipan-polqa-100000', 'intfloat/multilingual-e5-large-Cosine-ipipan-polqa-1000', 'intfloat/multilingual-e5-large-Euclid-ipipan-polqa-1000', 'intfloat/multilingual-e5-large-Cosine-ipipan-polqa-2000', 'intfloat/multilingual-e5-large-Euclid-ipipan-polqa-2000', 'intfloat/multilingual-e5-large-Cosine-ipipan-polqa-100000', 'intfloat/multilingual-e5-large-Euclid-ipipan-polqa-100000', 'sdadas/mmlw-retrieval-roberta-large-Cosine-ipipan-polqa-500', 'sdadas/mmlw-retrieval-roberta-large-Euclid-ipipan-polqa-500', 'BAAI/bge-m3-Cosine-ipipan-polqa-500', 'BAAI/bge-m3-Euclid-ipipan-polqa-500', 'intfloat/multilingual-e5-large-Cosine-ipipan-polqa-500', 'intfloat/multilingual-e5-large-Euclid-ipipan-polqa-500', 'sdadas/mmlw-roberta-large-Euclid-ipipan-polqa-1000', 'sdadas/mmlw-roberta-large-Euclid-ipipan-polqa-2000', 'sdadas/mmlw-roberta-large-Euclid-ipipan-polqa-100000', 'ipipan/silver-retriever-base-v1-Euclid-ipipan-polqa-1000', 'ipipan/silver-retriever-base-v1-Euclid-ipipan-polqa-2000', 'ipipan/silver-retriever-base-v1-Euclid-ipipan-polqa-100000', 'sdadas/mmlw-roberta-large-Cosine-ipipan-polqa-1000', 'sdadas/mmlw-roberta-large-Cosine-ipipan-polqa-2000', 'sdadas/mmlw-roberta-large-Cosine-ipipan-polqa-100000', 'ipipan/silver-retriever-base-v1-Cosine-ipipan-polqa-1000', 'ipipan/silver-retriever-base-v1-Cosine-ipipan-polqa-2000', 'ipipan/silver-retriever-base-v1-Cosine-ipipan-polqa-100000', 'sdadas/mmlw-roberta-large-Euclid-ipipan-polqa-500', 'ipipan/silver-retriever-base-v1-Euclid-ipipan-polqa-500', 'sdadas/mmlw-roberta-large-Cosine-ipipan-polqa-500', 'ipipan/silver-retriever-base-v1-Cosine-ipipan-polqa-500', 'intfloat/multilingual-e5-large-Cosine-clarin-pl-poquad-100000', 'intfloat/multilingual-e5-large-Euclid-clarin-pl-poquad-100000', 'intfloat/multilingual-e5-large-Cosine-clarin-pl-poquad-2000', 'intfloat/multilingual-e5-large-Euclid-clarin-pl-poquad-2000', 'intfloat/multilingual-e5-large-Cosine-clarin-pl-poquad-1000', 'intfloat/multilingual-e5-large-Euclid-clarin-pl-poquad-1000', 'BAAI/bge-m3-Cosine-clarin-pl-poquad-100000', 'BAAI/bge-m3-Euclid-clarin-pl-poquad-100000', 'BAAI/bge-m3-Cosine-clarin-pl-poquad-2000', 'BAAI/bge-m3-Euclid-clarin-pl-poquad-2000', 'sdadas/mmlw-retrieval-roberta-large-Cosine-clarin-pl-poquad-100000', 'sdadas/mmlw-retrieval-roberta-large-Cosine-clarin-pl-poquad-2000', 'BAAI/bge-m3-Cosine-clarin-pl-poquad-1000', 'BAAI/bge-m3-Euclid-clarin-pl-poquad-1000', 'sdadas/mmlw-retrieval-roberta-large-Euclid-clarin-pl-poquad-100000', 'sdadas/mmlw-retrieval-roberta-large-Cosine-clarin-pl-poquad-1000', 'sdadas/mmlw-retrieval-roberta-large-Euclid-clarin-pl-poquad-2000', 'ipipan/silver-retriever-base-v1-Cosine-clarin-pl-poquad-100000', 'intfloat/multilingual-e5-large-Cosine-clarin-pl-poquad-500', 'intfloat/multilingual-e5-large-Euclid-clarin-pl-poquad-500', 'ipipan/silver-retriever-base-v1-Euclid-clarin-pl-poquad-100000', 'sdadas/mmlw-roberta-large-Cosine-clarin-pl-poquad-100000', 'ipipan/silver-retriever-base-v1-Cosine-clarin-pl-poquad-2000', 'sdadas/mmlw-roberta-large-Cosine-clarin-pl-poquad-2000', 'ipipan/silver-retriever-base-v1-Euclid-clarin-pl-poquad-2000', 'sdadas/mmlw-retrieval-roberta-large-Euclid-clarin-pl-poquad-1000', 'BAAI/bge-m3-Cosine-clarin-pl-poquad-500', 'BAAI/bge-m3-Euclid-clarin-pl-poquad-500', 'ipipan/silver-retriever-base-v1-Cosine-clarin-pl-poquad-1000', 'sdadas/mmlw-retrieval-roberta-large-Cosine-clarin-pl-poquad-500', 'sdadas/mmlw-roberta-large-Cosine-clarin-pl-poquad-1000', 'ipipan/silver-retriever-base-v1-Euclid-clarin-pl-poquad-1000', 'sdadas/mmlw-roberta-large-Euclid-clarin-pl-poquad-100000', 'sdadas/mmlw-roberta-large-Euclid-clarin-pl-poquad-2000', 'sdadas/mmlw-retrieval-roberta-large-Euclid-clarin-pl-poquad-500', 'sdadas/mmlw-roberta-large-Euclid-clarin-pl-poquad-1000', 'sdadas/mmlw-roberta-large-Cosine-clarin-pl-poquad-500', 'ipipan/silver-retriever-base-v1-Cosine-clarin-pl-poquad-500', 'ipipan/silver-retriever-base-v1-Euclid-clarin-pl-poquad-500', 'sdadas/mmlw-roberta-large-Euclid-clarin-pl-poquad-500']\n"
     ]
    }
   ],
   "source": [
    "print([x[0] for x in qdrant_scores_sorted])"
   ]
  },
  {
   "cell_type": "code",
   "execution_count": 16,
   "metadata": {},
   "outputs": [],
   "source": [
    "from qdrant_client.models import Distance\n",
    "\n",
    "# sdadas/mmlw-retrieval-roberta-large-Cosine-ipipan-polqa-1000\n",
    "\n",
    "hybrid_combinations = [\n",
    "    (\n",
    "        \"clarin-pl-poquad-100000\",\n",
    "        \"morfologik_index\",\n",
    "        \"intfloat/multilingual-e5-large\",\n",
    "        Distance.COSINE,\n",
    "    ),\n",
    "    (\n",
    "        \"ipipan-polqa-1000\",\n",
    "        \"morfologik_index\",\n",
    "        \"sdadas/mmlw-retrieval-roberta-large\",\n",
    "        Distance.COSINE,\n",
    "    ),\n",
    "]"
   ]
  },
  {
   "cell_type": "code",
   "execution_count": 17,
   "metadata": {},
   "outputs": [],
   "source": [
    "from repository import qdrant_repository\n",
    "from repository.es_repository import ESRepository\n",
    "from retrievers.es_retriever import ESRetriever\n",
    "from retrievers.hybrid_retriever import HybridRetriever\n",
    "\n",
    "\n",
    "def run_hybrid_evaluations(combinations, datasets, alphas: list[int], reranker: HFReranker = None):\n",
    "    hybrid_scores: Dict[str, float] = {}\n",
    "\n",
    "    poquad_dataset, polqa_dataset  = datasets\n",
    "\n",
    "    for dataset_key, es_index, qdrant_model, qdrant_distance in combinations:\n",
    "        for alpha in alphas:\n",
    "            es_repository = ESRepository(es_client, es_index, cache)\n",
    "\n",
    "            passage_prefix = PASSAGE_PREFIX_MAP[qdrant_model]\n",
    "            query_prefix = QUERY_PREFIX_MAP[qdrant_model]\n",
    "            qdrant_repository = QdrantRepository.get_repository(\n",
    "                qdrant_client,\n",
    "                qdrant_model,\n",
    "                qdrant_distance,\n",
    "                cache,\n",
    "                passage_prefix,\n",
    "                query_prefix,\n",
    "            )\n",
    "\n",
    "            retriever = HybridRetriever(\n",
    "                es_repository, qdrant_repository, dataset_key, alpha, reranker\n",
    "            )\n",
    "\n",
    "            selected_dataset = poquad_dataset if \"poquad\" in dataset_key else polqa_dataset\n",
    "            evaluator_func = (\n",
    "                run_poquad_evaluation if \"poquad\" in dataset_key else run_polqa_evaluation\n",
    "            )\n",
    "\n",
    "            scores = evaluator_func(\n",
    "                selected_dataset, es_repository, retriever, dataset_key\n",
    "            )\n",
    "            hybrid_scores[\n",
    "                f\"{es_index}-{qdrant_model}-{qdrant_distance}-{dataset_key}-{alpha}\"\n",
    "            ] = scores\n",
    "\n",
    "            print(f\"{es_index}-{qdrant_model}-{qdrant_distance}-{dataset_key}-{alpha}\")\n",
    "            print(scores)\n",
    "            print(\"\\n\\n\")\n",
    "\n",
    "    return hybrid_scores"
   ]
  },
  {
   "cell_type": "code",
   "execution_count": 18,
   "metadata": {},
   "outputs": [],
   "source": [
    "hybrid_scores = None\n",
    "cached_hybrid_scores = cache.get(\"score:hybrid\")\n",
    "\n",
    "if cached_hybrid_scores is not None:\n",
    "    hybrid_scores = json.loads(cached_hybrid_scores)\n",
    "else:\n",
    "    hybrid_scores = run_hybrid_evaluations(hybrid_combinations, (poquad_dataset, polqa_dataset), [0.05, 0.1, 0.15, 0.2, 0.25, 0.5, 0.75])\n",
    "    cache.set(\"score:hybrid\", json.dumps(hybrid_scores))"
   ]
  },
  {
   "cell_type": "code",
   "execution_count": 19,
   "metadata": {},
   "outputs": [],
   "source": [
    "es_reranker_combinations = [('morfologik_index', 'clarin-pl-poquad-100000'), ('basic_index', 'clarin-pl-poquad-500'), ('morfologik_index', 'ipipan-polqa-1000'), ('basic_index', 'ipipan-polqa-500')]\n",
    "qdrant_reranker_combinations = [(\"intfloat/multilingual-e5-large\", Distance.COSINE, \"clarin-pl-poquad-100000\"), (\"sdadas/mmlw-roberta-large\", Distance.EUCLID, \"clarin-pl-poquad-500\"), (\"sdadas/mmlw-retrieval-roberta-large\", Distance.COSINE, \"ipipan-polqa-1000\"), (\"sdadas/mmlw-roberta-large\", Distance.EUCLID, \"ipipan-polqa-500\")]"
   ]
  },
  {
   "cell_type": "code",
   "execution_count": 20,
   "metadata": {},
   "outputs": [],
   "source": [
    "from common.names import RERANKER_MODEL_NAMES\n",
    "\n",
    "\n",
    "def run_reranker_evaluations():\n",
    "    reranker_scores: Dict[str, float] = {}\n",
    "\n",
    "    random_poquad_dataset = random.sample(poquad_dataset, 500)\n",
    "    random_polqa_dataset = random.sample(polqa_dataset, 500)\n",
    "\n",
    "    datasets = (random_poquad_dataset, random_polqa_dataset)\n",
    "\n",
    "    for reranker_model in RERANKER_MODEL_NAMES:\n",
    "        reranker = HFReranker(reranker_model, cache)\n",
    "\n",
    "        es_reranker_scores = run_es_evaluations(\n",
    "            es_reranker_combinations, datasets, reranker\n",
    "        )\n",
    "        for key, value in es_reranker_scores.items():\n",
    "            reranker_scores[f\"{key}-{reranker_model}\"] = value\n",
    "\n",
    "        qdrant_reranker_scores = run_qdrant_evaluations(\n",
    "            qdrant_reranker_combinations,\n",
    "            datasets,\n",
    "            reranker,\n",
    "        )\n",
    "        for key, value in qdrant_reranker_scores.items():\n",
    "            reranker_scores[f\"{key}-{reranker_model}\"] = value\n",
    "\n",
    "        hybrid_reranker_scores = run_hybrid_evaluations(\n",
    "            hybrid_combinations,\n",
    "            datasets,\n",
    "            [0.25, 0.5, 0.75],\n",
    "            reranker,\n",
    "        )\n",
    "        for key, value in hybrid_reranker_scores.items():\n",
    "            reranker_scores[f\"{key}-{reranker_model}\"] = value\n",
    "\n",
    "    return reranker_scores"
   ]
  },
  {
   "cell_type": "code",
   "execution_count": 21,
   "metadata": {},
   "outputs": [],
   "source": [
    "reranker_scores = None\n",
    "cached_reranker_scores = cache.get(\"score:reranker\")\n",
    "\n",
    "if cached_reranker_scores is not None:\n",
    "    reranker_scores = json.loads(cached_reranker_scores)\n",
    "else:\n",
    "    reranker_scores = run_reranker_evaluations()\n",
    "    cache.set(\"score:reranker\", json.dumps(reranker_scores))"
   ]
  },
  {
   "cell_type": "code",
   "execution_count": 22,
   "metadata": {},
   "outputs": [
    {
     "name": "stdout",
     "output_type": "stream",
     "text": [
      "{'morfologik_index-clarin-pl-poquad-100000-sdadas/polish-reranker-large-ranknet': {'ndcg': 0.9331009295026591, 'mrr': 0.9288095238095238, 'recall': 0.9457142857142857, 'accuracy': 0.9171428571428571}, 'basic_index-clarin-pl-poquad-500-sdadas/polish-reranker-large-ranknet': {'ndcg': 0.8172343604147756, 'mrr': 0.8199761904761905, 'recall': 0.5564965986394558, 'accuracy': 0.8085714285714286}, 'morfologik_index-ipipan-polqa-1000-sdadas/polish-reranker-large-ranknet': {'ndcg': 0.6349354667257144, 'mrr': 0.5295826932923707, 'recall': 0.956989247311828, 'accuracy': 0.3118279569892473}, 'basic_index-ipipan-polqa-500-sdadas/polish-reranker-large-ranknet': {'ndcg': 0.5760611674495155, 'mrr': 0.4836277521761393, 'recall': 0.8333333333333334, 'accuracy': 0.2903225806451613}, 'intfloat/multilingual-e5-large-Cosine-clarin-pl-poquad-100000-sdadas/polish-reranker-large-ranknet': {'ndcg': 0.9414064410232674, 'mrr': 0.9317210884353742, 'recall': 0.9714285714285714, 'accuracy': 0.9114285714285715}, 'sdadas/mmlw-roberta-large-Euclid-clarin-pl-poquad-500-sdadas/polish-reranker-large-ranknet': {'ndcg': 0.8952081548950773, 'mrr': 0.9151700680272108, 'recall': 0.7507346938775511, 'accuracy': 0.9}, 'sdadas/mmlw-retrieval-roberta-large-Cosine-ipipan-polqa-1000-sdadas/polish-reranker-large-ranknet': {'ndcg': 0.6515565779437635, 'mrr': 0.5428443420378904, 'recall': 0.9731182795698925, 'accuracy': 0.3225806451612903}, 'sdadas/mmlw-roberta-large-Euclid-ipipan-polqa-500-sdadas/polish-reranker-large-ranknet': {'ndcg': 0.6532849815370172, 'mrr': 0.5437403993855606, 'recall': 0.9731182795698925, 'accuracy': 0.3225806451612903}, 'morfologik_index-intfloat/multilingual-e5-large-Cosine-clarin-pl-poquad-100000-0.25-sdadas/polish-reranker-large-ranknet': {'ndcg': 0.9426820996692641, 'mrr': 0.9350952380952382, 'recall': 0.9657142857142857, 'accuracy': 0.9171428571428571}, 'morfologik_index-intfloat/multilingual-e5-large-Cosine-clarin-pl-poquad-100000-0.5-sdadas/polish-reranker-large-ranknet': {'ndcg': 0.9429300737588091, 'mrr': 0.9353809523809523, 'recall': 0.9657142857142857, 'accuracy': 0.9171428571428571}, 'morfologik_index-intfloat/multilingual-e5-large-Cosine-clarin-pl-poquad-100000-0.75-sdadas/polish-reranker-large-ranknet': {'ndcg': 0.9385229545375158, 'mrr': 0.9322380952380953, 'recall': 0.9571428571428572, 'accuracy': 0.9142857142857143}, 'morfologik_index-sdadas/mmlw-retrieval-roberta-large-Cosine-ipipan-polqa-1000-0.25-sdadas/polish-reranker-large-ranknet': {'ndcg': 0.6535242415815581, 'mrr': 0.5452935654548557, 'recall': 0.9838709677419355, 'accuracy': 0.3225806451612903}, 'morfologik_index-sdadas/mmlw-retrieval-roberta-large-Cosine-ipipan-polqa-1000-0.5-sdadas/polish-reranker-large-ranknet': {'ndcg': 0.6535085355443544, 'mrr': 0.5442012288786483, 'recall': 0.989247311827957, 'accuracy': 0.3225806451612903}, 'morfologik_index-sdadas/mmlw-retrieval-roberta-large-Cosine-ipipan-polqa-1000-0.75-sdadas/polish-reranker-large-ranknet': {'ndcg': 0.6535085355443544, 'mrr': 0.5442012288786483, 'recall': 0.989247311827957, 'accuracy': 0.3225806451612903}}\n"
     ]
    }
   ],
   "source": [
    "print(reranker_scores)"
   ]
  },
  {
   "cell_type": "code",
   "execution_count": 23,
   "metadata": {},
   "outputs": [],
   "source": [
    "import json\n",
    "from repository.qdrant_openai_repository import QdrantOpenAIRepository\n",
    "from retrievers.qdrant_retriever import QdrantRetriever\n",
    "\n",
    "\n",
    "def run_openai_evaluations(combinations, datasets):\n",
    "    openai_scores: Dict[str, float] = {}\n",
    "\n",
    "    poquad_dataset, polqa_dataset = datasets\n",
    "\n",
    "    for model, distance, dataset_key in combinations:\n",
    "        repository = QdrantOpenAIRepository.get_repository(\n",
    "            qdrant_client, model, distance, cache\n",
    "        )\n",
    "        retriever = QdrantRetriever(repository, dataset_key)\n",
    "\n",
    "        selected_dataset = poquad_dataset if \"poquad\" in dataset_key else polqa_dataset\n",
    "        evaluator_func = (\n",
    "            run_poquad_evaluation if \"poquad\" in dataset_key else run_polqa_evaluation\n",
    "        )\n",
    "\n",
    "        scores = evaluator_func(selected_dataset, repository, retriever, dataset_key)\n",
    "        openai_scores[f\"{model}-{distance}-{dataset_key}\"] = scores\n",
    "\n",
    "        cache.set(\n",
    "            f\"openai_scores:{model}-{distance}-{dataset_key}\", json.dumps(scores)\n",
    "        )\n",
    "\n",
    "        print(f\"{model}-{distance}-{dataset_key}\")\n",
    "        print(scores)\n",
    "        print(\"\\n\\n\")\n",
    "\n",
    "    return openai_scores"
   ]
  },
  {
   "cell_type": "code",
   "execution_count": 24,
   "metadata": {},
   "outputs": [],
   "source": [
    "openai_scores = None\n",
    "cached_openai_scores = cache.get(\"score:openai\")\n",
    "\n",
    "if cached_openai_scores is not None:\n",
    "    openai_scores = json.loads(cached_openai_scores)\n",
    "else:\n",
    "    openai_scores = run_openai_evaluations(\n",
    "        openai_model_combinations, (poquad_dataset, polqa_dataset)\n",
    "    )\n",
    "    cache.set(\"score:openai\", json.dumps(openai_scores))"
   ]
  },
  {
   "cell_type": "code",
   "execution_count": 25,
   "metadata": {},
   "outputs": [],
   "source": [
    "# save results as csv\n",
    "import csv\n",
    "\n",
    "def save_scores_to_csv(scores, filename):\n",
    "    with open(filename, mode='w') as file:\n",
    "        writer = csv.writer(file)\n",
    "        writer.writerow(['model', 'ndcg', 'mrr', 'recall', 'accuracy', 'sum', 'avg'])\n",
    "        for key, value in scores.items():\n",
    "            writer.writerow(\n",
    "                [\n",
    "                    key,\n",
    "                    str(value[\"ndcg\"]).replace(\".\", \",\"),\n",
    "                    str(value[\"mrr\"]).replace(\".\", \",\"),\n",
    "                    str(value[\"recall\"]).replace(\".\", \",\"),\n",
    "                    str(value[\"accuracy\"]).replace(\".\", \",\"),\n",
    "                    str(value[\"ndcg\"] + value[\"mrr\"] + value[\"recall\"] + value[\"accuracy\"]).replace(\".\", \",\"),\n",
    "                    str((value[\"ndcg\"] + value[\"mrr\"] + value[\"recall\"] + value[\"accuracy\"]) / 4).replace(\".\", \",\"),\n",
    "                ]\n",
    "            )"
   ]
  },
  {
   "cell_type": "code",
   "execution_count": 27,
   "metadata": {},
   "outputs": [],
   "source": [
    "es_poquad_scores = {key: value for key, value in es_scores.items() if \"poquad\" in key}\n",
    "es_polqa_scores = {key: value for key, value in es_scores.items() if \"polqa\" in key}\n",
    "\n",
    "qdrant_poquad_scores = {key: value for key, value in qdrant_scores.items() if \"poquad\" in key}\n",
    "qdrant_polqa_scores = {key: value for key, value in qdrant_scores.items() if \"polqa\" in key}\n",
    "\n",
    "hybrid_poquad_scores = {key: value for key, value in hybrid_scores.items() if \"poquad\" in key}\n",
    "hybrid_polqa_scores = {key: value for key, value in hybrid_scores.items() if \"polqa\" in key}\n",
    "\n",
    "reranker_poquad_scores = {key: value for key, value in reranker_scores.items() if \"poquad\" in key}\n",
    "reranker_polqa_scores = {key: value for key, value in reranker_scores.items() if \"polqa\" in key}\n",
    "\n",
    "openai_poquad_scores = {key: value for key, value in openai_scores.items() if \"poquad\" in key}\n",
    "openai_polqa_scores = {key: value for key, value in openai_scores.items() if \"polqa\" in key}"
   ]
  },
  {
   "cell_type": "code",
   "execution_count": 28,
   "metadata": {},
   "outputs": [],
   "source": [
    "save_scores_to_csv(es_poquad_scores, \"../../output/es_scores_poquad.csv\")\n",
    "save_scores_to_csv(es_polqa_scores, \"../../output/es_scores_polqa.csv\")\n",
    "\n",
    "save_scores_to_csv(qdrant_poquad_scores, \"../../output/qdrant_scores_poquad.csv\")\n",
    "save_scores_to_csv(qdrant_polqa_scores, \"../../output/qdrant_scores_polqa.csv\")\n",
    "\n",
    "save_scores_to_csv(hybrid_poquad_scores, \"../../output/hybrid_scores_poquad.csv\")\n",
    "save_scores_to_csv(hybrid_polqa_scores, \"../../output/hybrid_scores_polqa.csv\")\n",
    "\n",
    "save_scores_to_csv(reranker_poquad_scores, \"../../output/reranker_scores_poquad.csv\")\n",
    "save_scores_to_csv(reranker_polqa_scores, \"../../output/reranker_scores_polqa.csv\")\n",
    "\n",
    "save_scores_to_csv(openai_poquad_scores, \"../../output/openai_scores_poquad.csv\")\n",
    "save_scores_to_csv(openai_polqa_scores, \"../../output/openai_scores_polqa.csv\")"
   ]
  }
 ],
 "metadata": {
  "kernelspec": {
   "display_name": "env",
   "language": "python",
   "name": "python3"
  },
  "language_info": {
   "codemirror_mode": {
    "name": "ipython",
    "version": 3
   },
   "file_extension": ".py",
   "mimetype": "text/x-python",
   "name": "python",
   "nbconvert_exporter": "python",
   "pygments_lexer": "ipython3",
   "version": "3.12.2"
  }
 },
 "nbformat": 4,
 "nbformat_minor": 2
}
