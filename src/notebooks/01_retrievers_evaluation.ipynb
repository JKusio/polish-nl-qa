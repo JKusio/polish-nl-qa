{
 "cells": [
  {
   "cell_type": "code",
   "execution_count": 11,
   "metadata": {},
   "outputs": [],
   "source": [
    "import sys\n",
    "\n",
    "sys.path.append(\"../\")"
   ]
  },
  {
   "cell_type": "markdown",
   "metadata": {},
   "source": [
    "In this file we'll compare all retrievers.\n",
    "We'll check how each of them compares to each other,\n",
    "We'll get the best 10 retrievers that will later be used for our RAG.\n",
    "\n",
    "To test all retrievers:\n",
    "1. Get all dense, sparse and hybrid retrievers\n",
    "2. Prompt and get top 10 results for each retriever\n",
    "3. Calculate metrics\n",
    "\n",
    "REMEMBER TO CACHE WHAT YOU CAN!"
   ]
  },
  {
   "cell_type": "code",
   "execution_count": 15,
   "metadata": {},
   "outputs": [],
   "source": [
    "from elasticsearch import Elasticsearch\n",
    "from qdrant_client import QdrantClient\n",
    "from cache.cache import Cache\n",
    "\n",
    "qdrant_client = QdrantClient(host=\"localhost\", port=6333)\n",
    "es_client = Elasticsearch(\n",
    "    hosts=[\"http://localhost:9200\"],\n",
    ")\n",
    "cache = Cache()"
   ]
  },
  {
   "cell_type": "code",
   "execution_count": 17,
   "metadata": {},
   "outputs": [],
   "source": [
    "from typing import Dict\n",
    "from common.names import INDEX_NAMES\n",
    "from repository.es_repository import ESRepository\n",
    "\n",
    "es_repositories: Dict[str, ESRepository] = {}\n",
    "\n",
    "for index_name in INDEX_NAMES:\n",
    "    es_repositories[index_name] = ESRepository(es_client, index_name, cache)"
   ]
  },
  {
   "cell_type": "code",
   "execution_count": 18,
   "metadata": {},
   "outputs": [
    {
     "data": {
      "text/plain": [
       "{}"
      ]
     },
     "execution_count": 18,
     "metadata": {},
     "output_type": "execute_result"
    }
   ],
   "source": [
    "from common.utils import replace_slash_with_dash\n",
    "\n",
    "es_repositories[\"polish_whitespace_index\"].find(\n",
    "    \"Platforma Obywatelska\", replace_slash_with_dash(f\"{\"ipipan/polqa\"}-{\"character-500\"}\")\n",
    ")"
   ]
  }
 ],
 "metadata": {
  "kernelspec": {
   "display_name": "env",
   "language": "python",
   "name": "python3"
  },
  "language_info": {
   "codemirror_mode": {
    "name": "ipython",
    "version": 3
   },
   "file_extension": ".py",
   "mimetype": "text/x-python",
   "name": "python",
   "nbconvert_exporter": "python",
   "pygments_lexer": "ipython3",
   "version": "3.12.2"
  }
 },
 "nbformat": 4,
 "nbformat_minor": 2
}
